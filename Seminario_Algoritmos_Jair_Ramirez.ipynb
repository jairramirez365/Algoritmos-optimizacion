{
  "nbformat": 4,
  "nbformat_minor": 0,
  "metadata": {
    "colab": {
      "provenance": [],
      "include_colab_link": true
    },
    "kernelspec": {
      "name": "python3",
      "display_name": "Python 3"
    }
  },
  "cells": [
    {
      "cell_type": "markdown",
      "metadata": {
        "id": "view-in-github",
        "colab_type": "text"
      },
      "source": [
        "<a href=\"https://colab.research.google.com/github/jairramirez365/Algoritmos-optimizacion/blob/main/Seminario_Algoritmos_Jair_Ramirez.ipynb\" target=\"_parent\"><img src=\"https://colab.research.google.com/assets/colab-badge.svg\" alt=\"Open In Colab\"/></a>"
      ]
    },
    {
      "cell_type": "markdown",
      "metadata": {
        "id": "hVbXYX-RfPWh"
      },
      "source": [
        "# Algoritmos de optimización - Seminario<br>\n",
        "Nombre y Apellidos:   <br>\n",
        "Url: https://github.com/.../03MAIR---Algoritmos-de-Optimizacion---2019/tree/master/SEMINARIO<br>\n",
        "Problema:\n",
        "> 1. Sesiones de doblaje <br>\n",
        ">2. Organizar los horarios de partidos de La Liga<br>\n",
        ">3. Combinar cifras y operaciones\n",
        "\n",
        "Descripción del problema: 3. Combinar cifras y operaciones\n",
        "\n",
        "El problema consiste en diseñar un algoritmo que lo resuelva la combinatoria de 9 cifras del 1 al 9 (excluimos el cero) y de los 4 signos básicos de las\n",
        "operaciones fundamentales: suma(+), resta(-), multiplicación(*) y división(/)\n",
        "Debemos combinarlos alternativamente sin repetir ninguno de ellos para obtener una cantidad dada\n",
        "\n",
        "\n",
        "\n",
        "\n",
        "\n",
        "\n",
        "                                        "
      ]
    },
    {
      "cell_type": "code",
      "metadata": {
        "id": "AiskKkzZfy4e",
        "outputId": "fc68a49e-43b7-49a4-beec-7160ab32778d",
        "colab": {
          "base_uri": "https://localhost:8080/"
        }
      },
      "source": [
        "from itertools import permutations\n",
        "import math\n",
        "from math import factorial\n",
        "import pandas as pd\n",
        "\n",
        "# Todos los dígitos posibles\n",
        "Numeros = [str(i) for i in range(1, 10)]\n",
        "Operaciones = ['+', '-', '*', '/']\n",
        "\n",
        "Cantidad_permutaciones_num=permutations(Numeros, 5)\n",
        "Cantidad_permutaciones_ops=permutations(Operaciones, 4)\n",
        "\n",
        "\n",
        "resultados = set()\n",
        "resultados_duplicados={}\n",
        "cont=0\n",
        "\n",
        "# Paso 1: Generar todas las permutaciones de 5 cifras\n",
        "for nums in permutations(Numeros, 5):\n",
        "    # Paso 2: Generar todas las permutaciones de 4 operadores sin repetir\n",
        "    for ops in permutations(Operaciones, 4):\n",
        "        # Crear expresión alternando números y operadores\n",
        "        expresion = \"\"\n",
        "        for i in range(4):\n",
        "            expresion += nums[i] + ops[i]\n",
        "        expresion += nums[4]  # Añadir el último número\n",
        "        cont+=1\n",
        "        try:\n",
        "            resultado = eval(expresion)\n",
        "            if resultado == int(resultado):  # Solo valores enteros\n",
        "                resultados.add(int(resultado))\n",
        "                resultados_duplicados[expresion]=resultado\n",
        "        except ZeroDivisionError:\n",
        "            continue\n",
        "\n",
        "# Mostrar resultados\n",
        "min_val = min(resultados)\n",
        "max_val = max(resultados)\n",
        "Faltantes = [i for i in range(min_val, max_val + 1) if i not in resultados]\n",
        "\n",
        "print(f\"Valor mínimo: {min_val}\")\n",
        "print(f\"Valor máximo: {max_val}\")\n",
        "print(f\"Total de valores enteros posibles: {len(resultados)}\")\n",
        "print(f\"¿Faltan valores enteros entre el mínimo y el máximo?: {'Sí' if Faltantes else 'No'}\")\n",
        "print(f\"Total de combinatorias posibles: {cont}\")\n",
        "if Faltantes:\n",
        "    print(f\"Valores faltantes: {Faltantes}\")\n"
      ],
      "execution_count": 3,
      "outputs": [
        {
          "output_type": "stream",
          "name": "stdout",
          "text": [
            "Valor mínimo: -69\n",
            "Valor máximo: 77\n",
            "Total de valores enteros posibles: 147\n",
            "¿Faltan valores enteros entre el mínimo y el máximo?: No\n",
            "Total de combinatorias posibles: 362880\n",
            "De las cuales las unicas que retornan valor entero son : 90000\n"
          ]
        }
      ]
    },
    {
      "cell_type": "markdown",
      "source": [
        "(*)¿Cuantas posibilidades hay sin tener en cuenta las restricciones?<br>\n",
        "\n",
        "\n",
        "\n"
      ],
      "metadata": {
        "id": "OcaV-lajrjG1"
      }
    },
    {
      "cell_type": "markdown",
      "source": [
        "Respuesta"
      ],
      "metadata": {
        "id": "NFkc3skJtZDA"
      }
    },
    {
      "cell_type": "markdown",
      "source": [
        "Sin tener en cuenta las restriccion de que sea un valor entero existen un Total de combinatorias posibles: 362.880\n",
        "\n",
        "Sin tener en cuenta la restriccion de que  se repita los valores y los signos hay un total de ---############################-----\n",
        "\n"
      ],
      "metadata": {
        "id": "nmZRe7M_r_dn"
      }
    },
    {
      "cell_type": "markdown",
      "metadata": {
        "id": "3_-exlrTgLd-"
      },
      "source": [
        "\n",
        "¿Cuantas posibilidades hay teniendo en cuenta todas las restricciones.\n",
        "\n",
        "\n"
      ]
    },
    {
      "cell_type": "markdown",
      "source": [
        "Respuesta"
      ],
      "metadata": {
        "id": "LTtKH6IQtunC"
      }
    },
    {
      "cell_type": "code",
      "source": [
        "print(f'Combinaciones posibles teniento en cuenta las restricciones : {len(resultados_duplicados)}')"
      ],
      "metadata": {
        "id": "UBnpIdVQtFT4",
        "outputId": "8a4592e2-5d54-4390-b370-cbd1ce20eef7",
        "colab": {
          "base_uri": "https://localhost:8080/"
        }
      },
      "execution_count": 4,
      "outputs": [
        {
          "output_type": "stream",
          "name": "stdout",
          "text": [
            "Combinaciones posibles teniento en cuenta las restricciones : 90000\n"
          ]
        }
      ]
    },
    {
      "cell_type": "markdown",
      "metadata": {
        "id": "dzynfVJahHoY"
      },
      "source": [
        "Modelo para el espacio de soluciones<br>\n",
        "(*) ¿Cual es la estructura de datos que mejor se adapta al problema? Argumentalo.(Es posible que hayas elegido una al principio y veas la necesidad de cambiar, arguentalo)\n"
      ]
    },
    {
      "cell_type": "markdown",
      "metadata": {
        "id": "xFIJrOwKi2Ti"
      },
      "source": [
        "Respuesta"
      ]
    },
    {
      "cell_type": "code",
      "metadata": {
        "id": "38c-7-ejhJmA"
      },
      "source": [],
      "execution_count": null,
      "outputs": []
    },
    {
      "cell_type": "markdown",
      "metadata": {
        "id": "7Z9U2W7bi-XS"
      },
      "source": [
        "Según el modelo para el espacio de soluciones<br>\n",
        "(*)¿Cual es la función objetivo?\n",
        "\n",
        "(*)¿Es un problema de maximización o minimización?"
      ]
    },
    {
      "cell_type": "markdown",
      "metadata": {
        "id": "hBalWLM7j1_d"
      },
      "source": [
        "Respuesta"
      ]
    },
    {
      "cell_type": "code",
      "metadata": {
        "id": "pDA-rg3Gj5Lz"
      },
      "source": [],
      "execution_count": null,
      "outputs": []
    },
    {
      "cell_type": "markdown",
      "metadata": {
        "id": "rlnTYgY1j6I2"
      },
      "source": [
        "Diseña un algoritmo para resolver el problema por fuerza bruta"
      ]
    },
    {
      "cell_type": "markdown",
      "metadata": {
        "id": "70rDgxYXkC8r"
      },
      "source": [
        "Respuesta"
      ]
    },
    {
      "cell_type": "code",
      "metadata": {
        "id": "CJb5sQ0qkENy"
      },
      "source": [],
      "execution_count": null,
      "outputs": []
    },
    {
      "cell_type": "markdown",
      "metadata": {
        "id": "tgrnsC2nkFa8"
      },
      "source": [
        "Calcula la complejidad del algoritmo por fuerza bruta"
      ]
    },
    {
      "cell_type": "markdown",
      "metadata": {
        "id": "9eUd3xwckP68"
      },
      "source": [
        "Respuesta"
      ]
    },
    {
      "cell_type": "code",
      "metadata": {
        "id": "rvZWwL-ckRST"
      },
      "source": [],
      "execution_count": null,
      "outputs": []
    },
    {
      "cell_type": "markdown",
      "metadata": {
        "id": "txbrmLmskReM"
      },
      "source": [
        "(*)Diseña un algoritmo que mejore la complejidad del algortimo por fuerza bruta. Argumenta porque crees que mejora el algoritmo por fuerza bruta"
      ]
    },
    {
      "cell_type": "markdown",
      "metadata": {
        "id": "hLrVwt5QkZPD"
      },
      "source": [
        "Respuesta"
      ]
    },
    {
      "cell_type": "code",
      "metadata": {
        "id": "m1eyM21Vkabg"
      },
      "source": [],
      "execution_count": null,
      "outputs": []
    },
    {
      "cell_type": "markdown",
      "metadata": {
        "id": "eGDB4K6uk1iN"
      },
      "source": [
        "(*)Calcula la complejidad del algoritmo"
      ]
    },
    {
      "cell_type": "markdown",
      "metadata": {
        "id": "NhpTh_BPk1ms"
      },
      "source": [
        "Respuesta"
      ]
    },
    {
      "cell_type": "code",
      "metadata": {
        "id": "nREzhkStlCq8"
      },
      "source": [],
      "execution_count": null,
      "outputs": []
    },
    {
      "cell_type": "markdown",
      "metadata": {
        "id": "3M6QjTsSkmYe"
      },
      "source": [
        "Según el problema (y tenga sentido), diseña un juego de datos de entrada aleatorios"
      ]
    },
    {
      "cell_type": "markdown",
      "metadata": {
        "id": "Jc3_OlyNkvjZ"
      },
      "source": [
        "Respuesta"
      ]
    },
    {
      "cell_type": "code",
      "metadata": {
        "id": "sJ-N2etjkyWc"
      },
      "source": [],
      "execution_count": null,
      "outputs": []
    },
    {
      "cell_type": "markdown",
      "metadata": {
        "id": "zy5ZROmjlGo1"
      },
      "source": [
        "Aplica el algoritmo al juego de datos generado"
      ]
    },
    {
      "cell_type": "markdown",
      "metadata": {
        "id": "_Cmj-PVylMsa"
      },
      "source": [
        "Respuesta"
      ]
    },
    {
      "cell_type": "code",
      "metadata": {
        "id": "Jkx8GeiYlUz1"
      },
      "source": [],
      "execution_count": null,
      "outputs": []
    },
    {
      "cell_type": "markdown",
      "metadata": {
        "id": "eTFWUJQrtGcv"
      },
      "source": [
        "Enumera las referencias que has utilizado(si ha sido necesario) para llevar a cabo el trabajo"
      ]
    },
    {
      "cell_type": "markdown",
      "metadata": {
        "id": "YKQ_mRBttWsP"
      },
      "source": [
        "Respuesta"
      ]
    },
    {
      "cell_type": "markdown",
      "metadata": {
        "id": "kAkDPUyRtYyH"
      },
      "source": [
        "Describe brevemente las lineas de como crees que es posible avanzar en el estudio del problema. Ten en cuenta incluso posibles variaciones del problema y/o variaciones al alza del tamaño"
      ]
    },
    {
      "cell_type": "markdown",
      "metadata": {
        "id": "IE0uZmo-tZu-"
      },
      "source": [
        "Respuesta"
      ]
    }
  ]
}