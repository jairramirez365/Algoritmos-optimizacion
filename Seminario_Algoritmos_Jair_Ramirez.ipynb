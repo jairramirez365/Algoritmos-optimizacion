{
  "nbformat": 4,
  "nbformat_minor": 0,
  "metadata": {
    "colab": {
      "provenance": [],
      "include_colab_link": true
    },
    "kernelspec": {
      "name": "python3",
      "display_name": "Python 3"
    }
  },
  "cells": [
    {
      "cell_type": "markdown",
      "metadata": {
        "id": "view-in-github",
        "colab_type": "text"
      },
      "source": [
        "<a href=\"https://colab.research.google.com/github/jairramirez365/Algoritmos-optimizacion/blob/main/Seminario_Algoritmos_Jair_Ramirez.ipynb\" target=\"_parent\"><img src=\"https://colab.research.google.com/assets/colab-badge.svg\" alt=\"Open In Colab\"/></a>"
      ]
    },
    {
      "cell_type": "markdown",
      "metadata": {
        "id": "hVbXYX-RfPWh"
      },
      "source": [
        "# Algoritmos de optimización - Seminario<br>\n",
        "Nombre y Apellidos:   <br>\n",
        "Url: https://github.com/jairramirez365/Algoritmos-optimizacion/blob/main/Seminario_Algoritmos_Jair_Ramirez.ipynb<br>\n",
        "Problema:\n",
        "> 1. Sesiones de doblaje <br>\n",
        ">2. Organizar los horarios de partidos de La Liga<br>\n",
        ">3. Combinar cifras y operaciones\n",
        "\n",
        "Descripción del problema: 3. Combinar cifras y operaciones\n",
        "\n",
        "El problema consiste en diseñar un algoritmo que lo resuelva la combinatoria de 9 cifras del 1 al 9 (excluimos el cero) y de los 4 signos básicos de las\n",
        "operaciones fundamentales: suma(+), resta(-), multiplicación(*) y división(/)\n",
        "Debemos combinarlos alternativamente sin repetir ninguno de ellos para obtener una cantidad dada\n",
        "\n",
        "\n",
        "\n",
        "\n",
        "\n",
        "\n",
        "                                        "
      ]
    },
    {
      "cell_type": "code",
      "metadata": {
        "id": "AiskKkzZfy4e",
        "outputId": "fc68a49e-43b7-49a4-beec-7160ab32778d",
        "colab": {
          "base_uri": "https://localhost:8080/"
        }
      },
      "source": [
        "from itertools import permutations\n",
        "import math\n",
        "from math import factorial\n",
        "import pandas as pd\n",
        "\n",
        "# Todos los dígitos posibles\n",
        "Numeros = [str(i) for i in range(1, 10)]\n",
        "Operaciones = ['+', '-', '*', '/']\n",
        "\n",
        "Cantidad_permutaciones_num=permutations(Numeros, 5)\n",
        "Cantidad_permutaciones_ops=permutations(Operaciones, 4)\n",
        "\n",
        "\n",
        "resultados = set()\n",
        "resultados_duplicados={}\n",
        "cont=0\n",
        "\n",
        "# Paso 1: Generar todas las permutaciones de 5 cifras\n",
        "for nums in permutations(Numeros, 5):\n",
        "    # Paso 2: Generar todas las permutaciones de 4 operadores sin repetir\n",
        "    for ops in permutations(Operaciones, 4):\n",
        "        # Crear expresión alternando números y operadores\n",
        "        expresion = \"\"\n",
        "        for i in range(4):\n",
        "            expresion += nums[i] + ops[i]\n",
        "        expresion += nums[4]  # Añadir el último número\n",
        "        cont+=1\n",
        "        try:\n",
        "            resultado = eval(expresion)\n",
        "            if resultado == int(resultado):  # Solo valores enteros\n",
        "                resultados.add(int(resultado))\n",
        "                resultados_duplicados[expresion]=resultado\n",
        "        except ZeroDivisionError:\n",
        "            continue\n",
        "\n",
        "# Mostrar resultados\n",
        "min_val = min(resultados)\n",
        "max_val = max(resultados)\n",
        "Faltantes = [i for i in range(min_val, max_val + 1) if i not in resultados]\n",
        "\n",
        "print(f\"Valor mínimo: {min_val}\")\n",
        "print(f\"Valor máximo: {max_val}\")\n",
        "print(f\"Total de valores enteros posibles: {len(resultados)}\")\n",
        "print(f\"¿Faltan valores enteros entre el mínimo y el máximo?: {'Sí' if Faltantes else 'No'}\")\n",
        "print(f\"Total de combinatorias posibles: {cont}\")\n",
        "if Faltantes:\n",
        "    print(f\"Valores faltantes: {Faltantes}\")\n"
      ],
      "execution_count": null,
      "outputs": [
        {
          "output_type": "stream",
          "name": "stdout",
          "text": [
            "Valor mínimo: -69\n",
            "Valor máximo: 77\n",
            "Total de valores enteros posibles: 147\n",
            "¿Faltan valores enteros entre el mínimo y el máximo?: No\n",
            "Total de combinatorias posibles: 362880\n",
            "De las cuales las unicas que retornan valor entero son : 90000\n"
          ]
        }
      ]
    },
    {
      "cell_type": "markdown",
      "source": [
        "(*)¿Cuantas posibilidades hay sin tener en cuenta las restricciones?<br>\n",
        "\n",
        "\n",
        "\n"
      ],
      "metadata": {
        "id": "OcaV-lajrjG1"
      }
    },
    {
      "cell_type": "markdown",
      "source": [
        "Respuesta"
      ],
      "metadata": {
        "id": "NFkc3skJtZDA"
      }
    },
    {
      "cell_type": "markdown",
      "source": [
        "Sin tener en cuenta las restriccion de que sea un valor entero existen un Total de combinatorias posibles: 362.880\n",
        "Este valor se calcula teniendo en cuenta la variable cont, dentro del codigo, que cuenta todas las iteracciones posibles sin discriminar si la respuesta obtenida por el codigo es entero o decimal.\n",
        "\n",
        "Sin tener en cuenta la restriccion de que  se repita los valores y los signos hay un total de 15,118,544\n",
        "Este total se calcula partiendo de la combinacion de los digitos del 1 al 9, teniendo en cuenta que cada expresion tiene 5 numeros, por su parte las operaciones son 4 y tienen 4 signos cada expresion, lo que nos da como resultado un total de expresiones posibles permitiendo repeticiones:\n",
        "9^5 × 4^4 = 59049 × 256 = 15,118,544\n",
        "\n",
        "\n"
      ],
      "metadata": {
        "id": "nmZRe7M_r_dn"
      }
    },
    {
      "cell_type": "markdown",
      "metadata": {
        "id": "3_-exlrTgLd-"
      },
      "source": [
        "\n",
        "¿Cuantas posibilidades hay teniendo en cuenta todas las restricciones.\n",
        "\n",
        "\n"
      ]
    },
    {
      "cell_type": "markdown",
      "source": [
        "Respuesta"
      ],
      "metadata": {
        "id": "LTtKH6IQtunC"
      }
    },
    {
      "cell_type": "code",
      "source": [
        "print(f'Combinaciones posibles teniento en cuenta las restricciones : {len(resultados_duplicados)}')"
      ],
      "metadata": {
        "id": "UBnpIdVQtFT4",
        "outputId": "8a4592e2-5d54-4390-b370-cbd1ce20eef7",
        "colab": {
          "base_uri": "https://localhost:8080/"
        }
      },
      "execution_count": null,
      "outputs": [
        {
          "output_type": "stream",
          "name": "stdout",
          "text": [
            "Combinaciones posibles teniento en cuenta las restricciones : 90000\n"
          ]
        }
      ]
    },
    {
      "cell_type": "markdown",
      "metadata": {
        "id": "dzynfVJahHoY"
      },
      "source": [
        "Modelo para el espacio de soluciones<br>\n",
        "(*) ¿Cual es la estructura de datos que mejor se adapta al problema? Argumentalo.(Es posible que hayas elegido una al principio y veas la necesidad de cambiar, arguentalo)\n"
      ]
    },
    {
      "cell_type": "markdown",
      "metadata": {
        "id": "xFIJrOwKi2Ti"
      },
      "source": [
        "Respuesta"
      ]
    },
    {
      "cell_type": "markdown",
      "source": [
        "La estructura de datos que mejor se adapta es el formato texto, dado que desde el planteamiento del problema tuvimos acceso a la funcion eval de python que recibe como argumentos una expresion en formato string, por lo tanto, no tendria sentido pasarlo a otro tipo de dato y luego realizar la conversion al formato que recibe la funcion de evaluacion. Por otra parte, al ser cadenas de texto python procesa de manera rapida las operaciones e iteraciones entre cadenas de strings, esto es una ventaja dado que se debe realizar la concatenacion de la expresion dependiendo de los valores que va tomando por cada iteracion para recorrer todo el espacio muestral."
      ],
      "metadata": {
        "id": "tv8KqrCAPyD3"
      }
    },
    {
      "cell_type": "markdown",
      "metadata": {
        "id": "7Z9U2W7bi-XS"
      },
      "source": [
        "Según el modelo para el espacio de soluciones<br>\n",
        "(*)¿Cual es la función objetivo?\n",
        "\n",
        "(*)¿Es un problema de maximización o minimización?"
      ]
    },
    {
      "cell_type": "markdown",
      "metadata": {
        "id": "hBalWLM7j1_d"
      },
      "source": [
        "Respuesta"
      ]
    },
    {
      "cell_type": "markdown",
      "source": [
        "- ¿Cuál es la función objetivo?\n",
        "\n",
        "En el contexto de este problema, donde se busca construir expresiones válidas usando cinco dígitos (del 1 al 9 sin repetir) y cuatro operadores básicos (+, −, *, / sin repetir), la función objetivo consiste en:\n",
        "\n",
        "**Obtener el valor entero que resulta al evaluar una expresión construida con la estructura dígito-operador-dígito, siguiendo las reglas establecidas.**\n",
        "\n",
        "f(expresión) =\n",
        "eval(expresión), si el resultado es un número entero\n",
        "\n",
        "descartar, si hay error o resultado decimal\n",
        "\n",
        "\n",
        "\n",
        "- ¿Es un problema de maximización o minimización?\n",
        "\n",
        "Este no es un problema clásico de optimización en el que se busca un único valor óptimo. Más bien, se trata de **explorar el espacio completo de soluciones válidas** y determinar el rango de resultados enteros posibles.\n",
        "\n",
        "Sin embargo, si lo analizamos desde el enfoque de optimización, el problema puede dividirse en dos subproblemas:\n",
        "\n",
        "- **Maximización**: encontrar el **mayor valor entero** que se puede obtener al evaluar una expresión válida.\n",
        "- **Minimización**: encontrar el **menor valor entero** alcanzable.\n",
        "\n",
        "Vale la pena aclarar que se da esta interpretacion basandose en las preguntas adicionales que conlleva este ejercicio, las de minimo y maximo valor encontrado\n",
        "\n",
        "Por ultimo podemos concluir el problema con el siguiente espacion de soluciones :\n",
        "\n",
        "- **Función objetivo:** obtener el valor entero de una expresión válida.\n",
        "- **Tipo de problema:** aunque es un problema de exploración y enumeración, puede abordarse como uno de **maximización y minimización** si se desea conocer los extremos del rango de valores enteros posibles generados por las expresiones construidas."
      ],
      "metadata": {
        "id": "w212iXKVScW-"
      }
    },
    {
      "cell_type": "markdown",
      "metadata": {
        "id": "rlnTYgY1j6I2"
      },
      "source": [
        "Diseña un algoritmo para resolver el problema por fuerza bruta"
      ]
    },
    {
      "cell_type": "markdown",
      "metadata": {
        "id": "70rDgxYXkC8r"
      },
      "source": [
        "Respuesta"
      ]
    },
    {
      "cell_type": "markdown",
      "source": [
        "Utilizar un algoritmo de fuerza bruta se adapta a este problema porque el espacio de búsqueda es grande, pero finito y manejable. No hay necesidad de heurísticas o poda, solo de un listado y evaluación exhaustivos. Aunque puede considerarse una opción ineficiente, ofrece una garantía completa de obtener la solución, por lo anterior se considera que el algoritmo diseñado podria ser considerado de fuerza bruta puesto que recorre todo el espacio muestral.\n",
        "\n"
      ],
      "metadata": {
        "id": "6HWUJRbMUI15"
      }
    },
    {
      "cell_type": "markdown",
      "metadata": {
        "id": "tgrnsC2nkFa8"
      },
      "source": [
        "Calcula la complejidad del algoritmo por fuerza bruta"
      ]
    },
    {
      "cell_type": "markdown",
      "metadata": {
        "id": "9eUd3xwckP68"
      },
      "source": [
        "Respuesta"
      ]
    },
    {
      "cell_type": "markdown",
      "source": [
        "Evaluación de expresiones\n",
        "\n",
        "Cada expresión se evalúa con eval(), que tiene un coste constante para expresiones cortas (como 4+2-6/3*1).\n",
        "\n",
        "Entonces:\n",
        "\n",
        "Evaluar cada expresión: O(1)\n",
        "\n",
        "Evaluar todas: La complejidad del algoritmo por fuerza bruta es:\n",
        "\n",
        "O(P(9,5) P(4,4)) = O(n^5  k!) donde n = 9, k = 4\n",
        "\n",
        "por lo anterior podemos concluir que algoritmo tiene una complejidad de tipo exponencial o combinatoria.No es constante ni lineal, ya que el número de combinaciones crece muy rápido cuando se aumentan los elementos disponibles."
      ],
      "metadata": {
        "id": "bFFAvipcWz8p"
      }
    },
    {
      "cell_type": "markdown",
      "metadata": {
        "id": "txbrmLmskReM"
      },
      "source": [
        "(*)Diseña un algoritmo que mejore la complejidad del algortimo por fuerza bruta. Argumenta porque crees que mejora el algoritmo por fuerza bruta"
      ]
    },
    {
      "cell_type": "code",
      "source": [],
      "metadata": {
        "id": "ephT741KXzFp"
      },
      "execution_count": null,
      "outputs": []
    },
    {
      "cell_type": "markdown",
      "metadata": {
        "id": "hLrVwt5QkZPD"
      },
      "source": [
        "Respuesta"
      ]
    },
    {
      "cell_type": "code",
      "metadata": {
        "id": "m1eyM21Vkabg"
      },
      "source": [],
      "execution_count": null,
      "outputs": []
    },
    {
      "cell_type": "markdown",
      "metadata": {
        "id": "eGDB4K6uk1iN"
      },
      "source": [
        "(*)Calcula la complejidad del algoritmo"
      ]
    },
    {
      "cell_type": "markdown",
      "metadata": {
        "id": "NhpTh_BPk1ms"
      },
      "source": [
        "Respuesta"
      ]
    },
    {
      "cell_type": "code",
      "metadata": {
        "id": "nREzhkStlCq8"
      },
      "source": [],
      "execution_count": null,
      "outputs": []
    },
    {
      "cell_type": "markdown",
      "metadata": {
        "id": "3M6QjTsSkmYe"
      },
      "source": [
        "Según el problema (y tenga sentido), diseña un juego de datos de entrada aleatorios"
      ]
    },
    {
      "cell_type": "markdown",
      "metadata": {
        "id": "Jc3_OlyNkvjZ"
      },
      "source": [
        "Respuesta"
      ]
    },
    {
      "cell_type": "code",
      "metadata": {
        "id": "sJ-N2etjkyWc"
      },
      "source": [],
      "execution_count": null,
      "outputs": []
    },
    {
      "cell_type": "markdown",
      "metadata": {
        "id": "zy5ZROmjlGo1"
      },
      "source": [
        "Aplica el algoritmo al juego de datos generado"
      ]
    },
    {
      "cell_type": "markdown",
      "metadata": {
        "id": "_Cmj-PVylMsa"
      },
      "source": [
        "Respuesta"
      ]
    },
    {
      "cell_type": "code",
      "metadata": {
        "id": "Jkx8GeiYlUz1"
      },
      "source": [],
      "execution_count": null,
      "outputs": []
    },
    {
      "cell_type": "markdown",
      "metadata": {
        "id": "eTFWUJQrtGcv"
      },
      "source": [
        "Enumera las referencias que has utilizado(si ha sido necesario) para llevar a cabo el trabajo"
      ]
    },
    {
      "cell_type": "markdown",
      "metadata": {
        "id": "YKQ_mRBttWsP"
      },
      "source": [
        "Respuesta"
      ]
    },
    {
      "cell_type": "markdown",
      "metadata": {
        "id": "kAkDPUyRtYyH"
      },
      "source": [
        "Describe brevemente las lineas de como crees que es posible avanzar en el estudio del problema. Ten en cuenta incluso posibles variaciones del problema y/o variaciones al alza del tamaño"
      ]
    },
    {
      "cell_type": "markdown",
      "metadata": {
        "id": "IE0uZmo-tZu-"
      },
      "source": [
        "Respuesta"
      ]
    }
  ]
}