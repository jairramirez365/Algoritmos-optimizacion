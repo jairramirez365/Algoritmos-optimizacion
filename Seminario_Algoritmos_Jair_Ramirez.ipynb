{
  "nbformat": 4,
  "nbformat_minor": 0,
  "metadata": {
    "colab": {
      "provenance": [],
      "include_colab_link": true
    },
    "kernelspec": {
      "name": "python3",
      "display_name": "Python 3"
    }
  },
  "cells": [
    {
      "cell_type": "markdown",
      "metadata": {
        "id": "view-in-github",
        "colab_type": "text"
      },
      "source": [
        "<a href=\"https://colab.research.google.com/github/jairramirez365/Algoritmos-optimizacion/blob/main/Seminario_Algoritmos_Jair_Ramirez.ipynb\" target=\"_parent\"><img src=\"https://colab.research.google.com/assets/colab-badge.svg\" alt=\"Open In Colab\"/></a>"
      ]
    },
    {
      "cell_type": "markdown",
      "metadata": {
        "id": "hVbXYX-RfPWh"
      },
      "source": [
        "# Algoritmos de optimización - Seminario<br>\n",
        "Nombre y Apellidos: Robinson Jair Ramirez Bustos   <br>\n",
        "Url: https://github.com/jairramirez365/Algoritmos-optimizacion/blob/main/Seminario_Algoritmos_Jair_Ramirez.ipynb<br>\n",
        "Problema:\n",
        "> 1. Sesiones de doblaje <br>\n",
        ">2. Organizar los horarios de partidos de La Liga<br>\n",
        ">3. Combinar cifras y operaciones\n",
        "\n",
        "Descripción del problema: 3. Combinar cifras y operaciones\n",
        "\n",
        "El problema consiste en diseñar un algoritmo que lo resuelva la combinatoria de 9 cifras del 1 al 9 (excluimos el cero) y de los 4 signos básicos de las\n",
        "operaciones fundamentales: suma(+), resta(-), multiplicación(*) y división(/)\n",
        "Debemos combinarlos alternativamente sin repetir ninguno de ellos para obtener una cantidad dada\n",
        "\n",
        "\n",
        "\n",
        "\n",
        "\n",
        "\n",
        "                                        "
      ]
    },
    {
      "cell_type": "markdown",
      "source": [
        "## (*)¿Cuantas posibilidades hay sin tener en cuenta las restricciones?<br>\n",
        "\n",
        "\n",
        "\n"
      ],
      "metadata": {
        "id": "OcaV-lajrjG1"
      }
    },
    {
      "cell_type": "markdown",
      "source": [
        "### Respuesta"
      ],
      "metadata": {
        "id": "NFkc3skJtZDA"
      }
    },
    {
      "cell_type": "markdown",
      "source": [
        "Sin tener en cuenta las restriccion de que sea un valor entero, existen un Total de combinatorias posibles: 362.880\n",
        "Este valor se calcula teniendo en cuenta la variable cont, dentro del codigo, que cuenta todas las iteracciones posibles sin discriminar, si la respuesta obtenida por el codigo es entero o decimal.\n",
        "\n",
        "Sin tener en cuenta la restriccion que no hayan duplicados entre valores y  signos hay un total de 15,118,544\n",
        "Este total se calcula partiendo de la combinacion de los digitos del 1 al 9, teniendo en cuenta que cada expresion tiene 5 numeros, por su parte las operaciones son 4 y tienen 4 signos cada expresion, lo que nos da como resultado un total de expresiones posibles permitiendo repeticiones:\n",
        "9^5 × 4^4 = 59049 × 256 = 15,118,544\n",
        "\n",
        "\n"
      ],
      "metadata": {
        "id": "nmZRe7M_r_dn"
      }
    },
    {
      "cell_type": "markdown",
      "metadata": {
        "id": "3_-exlrTgLd-"
      },
      "source": [
        "## ¿Cuantas posibilidades hay teniendo en cuenta todas las restricciones.\n",
        "\n",
        "\n"
      ]
    },
    {
      "cell_type": "markdown",
      "source": [
        "### Respuesta"
      ],
      "metadata": {
        "id": "LTtKH6IQtunC"
      }
    },
    {
      "cell_type": "code",
      "source": [
        "print(f'Combinaciones posibles teniendo en cuenta las restricciones : {len(resultados_duplicados)}')"
      ],
      "metadata": {
        "id": "UBnpIdVQtFT4",
        "outputId": "397659df-6013-480d-db07-4a31c8880e48",
        "colab": {
          "base_uri": "https://localhost:8080/"
        }
      },
      "execution_count": null,
      "outputs": [
        {
          "output_type": "stream",
          "name": "stdout",
          "text": [
            "Combinaciones posibles teniendo en cuenta las restricciones : 90000\n"
          ]
        }
      ]
    },
    {
      "cell_type": "markdown",
      "metadata": {
        "id": "dzynfVJahHoY"
      },
      "source": [
        "## Modelo para el espacio de soluciones<br>\n",
        "(*) ¿Cual es la estructura de datos que mejor se adapta al problema? Argumentalo.(Es posible que hayas elegido una al principio y veas la necesidad de cambiar, arguentalo)\n"
      ]
    },
    {
      "cell_type": "markdown",
      "metadata": {
        "id": "xFIJrOwKi2Ti"
      },
      "source": [
        "### Respuesta"
      ]
    },
    {
      "cell_type": "markdown",
      "source": [
        "#### La estructura de datos que mejor se adapta es el formato texto, dado que desde el planteamiento del problema tuvimos acceso a la funcion eval de python que recibe como argumentos una expresion en formato string, por lo tanto, no tendria sentido pasarlo a otro tipo de dato y luego realizar la conversion al formato que recibe la funcion de evaluacion. Por otra parte, al ser cadenas de texto python procesa de manera rapida las operaciones e iteraciones entre cadenas de strings, esto es una ventaja dado que se debe realizar la concatenacion de la expresion dependiendo de los valores que va tomando por cada iteracion para recorrer todo el espacio muestral."
      ],
      "metadata": {
        "id": "tv8KqrCAPyD3"
      }
    },
    {
      "cell_type": "markdown",
      "metadata": {
        "id": "7Z9U2W7bi-XS"
      },
      "source": [
        "## Según el modelo para el espacio de soluciones<br>\n",
        "(*)¿Cual es la función objetivo?\n",
        "\n",
        "(*)¿Es un problema de maximización o minimización?"
      ]
    },
    {
      "cell_type": "markdown",
      "metadata": {
        "id": "hBalWLM7j1_d"
      },
      "source": [
        "### Respuesta"
      ]
    },
    {
      "cell_type": "markdown",
      "source": [
        "#### - ¿Cuál es la función objetivo?\n",
        "\n",
        "En el contexto de este problema, donde se busca construir expresiones válidas usando cinco dígitos (del 1 al 9 sin repetir) y cuatro operadores básicos (+, −, *, / sin repetir), la función objetivo consiste en:\n",
        "\n",
        "**Obtener el valor entero que resulta al evaluar una expresión construida con la estructura dígito-operador-dígito, siguiendo las reglas establecidas.**\n",
        "\n",
        "f(expresión) =\n",
        "eval(expresión), si el resultado es un número entero\n",
        "\n",
        "descartar, si hay error o resultado decimal\n",
        "\n",
        "\n",
        "\n",
        "- ¿Es un problema de maximización o minimización?\n",
        "\n",
        "Este no es un problema clásico de optimización en el que se busca un único valor óptimo. Más bien, se trata de **explorar el espacio completo de soluciones válidas** y determinar el rango de resultados enteros posibles.\n",
        "\n",
        "Sin embargo, si lo analizamos desde el enfoque de optimización, el problema puede dividirse en dos subproblemas:\n",
        "\n",
        "- **Maximización**: encontrar el **mayor valor entero** que se puede obtener al evaluar una expresión válida.\n",
        "- **Minimización**: encontrar el **menor valor entero** alcanzable.\n",
        "\n",
        "Vale la pena aclarar que se da esta interpretacion basandose en las preguntas adicionales que conlleva este ejercicio, las de minimo y maximo valor encontrado\n",
        "\n",
        "Por ultimo podemos concluir el problema con el siguiente espacio de soluciones :\n",
        "\n",
        "- **Función objetivo:** obtener el valor entero de una expresión válida.\n",
        "- **Tipo de problema:** aunque es un problema de exploración y enumeración, puede abordarse como uno de **maximización y minimización** si se desea conocer los extremos del rango de valores enteros posibles generados por las expresiones construidas."
      ],
      "metadata": {
        "id": "w212iXKVScW-"
      }
    },
    {
      "cell_type": "markdown",
      "metadata": {
        "id": "rlnTYgY1j6I2"
      },
      "source": [
        "## Diseña un algoritmo para resolver el problema por fuerza bruta"
      ]
    },
    {
      "cell_type": "markdown",
      "metadata": {
        "id": "70rDgxYXkC8r"
      },
      "source": [
        "### Respuesta"
      ]
    },
    {
      "cell_type": "markdown",
      "source": [
        "Utilizar un algoritmo de fuerza bruta se adapta a este problema porque el espacio de búsqueda es grande, pero finito y manejable. Aunque puede considerarse una opción ineficiente, ofrece una garantía completa de obtener la solución, por lo anterior se considera que el algoritmo diseñado podria ser considerado de fuerza bruta puesto que recorre todo el espacio muestral.\n",
        "\n"
      ],
      "metadata": {
        "id": "6HWUJRbMUI15"
      }
    },
    {
      "cell_type": "code",
      "metadata": {
        "outputId": "59afd52f-b38c-41b6-9e34-d37cd6c7711b",
        "colab": {
          "base_uri": "https://localhost:8080/"
        },
        "id": "zXDUmOOPaR3Z"
      },
      "source": [
        "from itertools import permutations\n",
        "import math\n",
        "from math import factorial\n",
        "import pandas as pd\n",
        "import random\n",
        "\n",
        "# Todos los dígitos posibles\n",
        "Numeros = [str(i) for i in range(1, 10)]\n",
        "Operaciones = ['+', '-', '*', '/']\n",
        "\n",
        "Cantidad_permutaciones_num=permutations(Numeros, 5)\n",
        "Cantidad_permutaciones_ops=permutations(Operaciones, 4)\n",
        "\n",
        "\n",
        "resultados = set()\n",
        "resultados_duplicados={}\n",
        "cont=0\n",
        "\n",
        "# Paso 1: Generar todas las permutaciones de 5 cifras\n",
        "for nums in permutations(Numeros, 5):\n",
        "    # Paso 2: Generar todas las permutaciones de 4 operadores sin repetir\n",
        "    for ops in permutations(Operaciones, 4):\n",
        "        # Crear expresión alternando números y operadores\n",
        "        expresion = \"\"\n",
        "        for i in range(4):\n",
        "            expresion += nums[i] + ops[i]\n",
        "        expresion += nums[4]  # Añadir el último número\n",
        "        cont+=1\n",
        "        try:\n",
        "            resultado = eval(expresion)\n",
        "            if resultado == int(resultado):  # Solo valores enteros\n",
        "                resultados.add(int(resultado))\n",
        "                resultados_duplicados[expresion]=resultado\n",
        "        except ZeroDivisionError:\n",
        "            continue\n",
        "\n",
        "# Mostrar resultados\n",
        "min_val = min(resultados)\n",
        "max_val = max(resultados)\n",
        "Faltantes = [i for i in range(min_val, max_val + 1) if i not in resultados]\n",
        "\n",
        "print(f\"Valor mínimo: {min_val}\")\n",
        "print(f\"Valor máximo: {max_val}\")\n",
        "print(f\"Total de valores enteros posibles, Rango: {len(resultados)}\")\n",
        "print(f\"¿Faltan valores enteros entre el mínimo y el máximo?: {'Sí' if Faltantes else 'No'}\")\n",
        "print(f\"Total de combinatorias posibles: {cont}\")\n",
        "if Faltantes:\n",
        "    print(f\"Valores faltantes: {Faltantes}\")\n"
      ],
      "execution_count": null,
      "outputs": [
        {
          "output_type": "stream",
          "name": "stdout",
          "text": [
            "Valor mínimo: -69\n",
            "Valor máximo: 77\n",
            "Total de valores enteros posibles: 147\n",
            "¿Faltan valores enteros entre el mínimo y el máximo?: No\n",
            "Total de combinatorias posibles: 362880\n"
          ]
        }
      ]
    },
    {
      "cell_type": "markdown",
      "metadata": {
        "id": "tgrnsC2nkFa8"
      },
      "source": [
        "## Calcula la complejidad del algoritmo por fuerza bruta"
      ]
    },
    {
      "cell_type": "markdown",
      "metadata": {
        "id": "9eUd3xwckP68"
      },
      "source": [
        "### Respuesta"
      ]
    },
    {
      "cell_type": "markdown",
      "source": [
        "Evaluación de expresiones\n",
        "\n",
        "Cada expresión se evalúa con eval(), que tiene un coste constante para expresiones cortas (como 4+2-6/3*1).\n",
        "\n",
        "Entonces:\n",
        "\n",
        "Evaluar cada expresión: O(1)\n",
        "\n",
        "Evaluar todas: La complejidad del algoritmo por fuerza bruta es:\n",
        "\n",
        "O(P(9,5) P(4,4)) = $$\n",
        "\\frac{n!}{(n - k )!} \\times {k!}\n",
        "$$\n",
        " donde n = 9, k = 4\n",
        "\n",
        "por lo anterior podemos concluir que algoritmo tiene una complejidad de tipo  combinatoria para la cantidad de digitos y factorial para el numero de operadores"
      ],
      "metadata": {
        "id": "bFFAvipcWz8p"
      }
    },
    {
      "cell_type": "markdown",
      "metadata": {
        "id": "txbrmLmskReM"
      },
      "source": [
        "## (*)Diseña un algoritmo que mejore la complejidad del algortimo por fuerza bruta. Argumenta porque crees que mejora el algoritmo por fuerza bruta"
      ]
    },
    {
      "cell_type": "markdown",
      "metadata": {
        "id": "hLrVwt5QkZPD"
      },
      "source": [
        "### Respuesta"
      ]
    },
    {
      "cell_type": "code",
      "source": [
        "Numeros = [str(i) for i in range(1, 10)]\n",
        "Operaciones = ['+', '-', '*', '/']\n",
        "\n",
        "resultados = set()\n",
        "resultados_duplicados = {}\n",
        "evaluados = set()\n",
        "cont = 0\n",
        "\n",
        "def generar_vecino(expresion):\n",
        "    # Cambia aleatoriamente un número o un operador\n",
        "    nueva = list(expresion)\n",
        "    i = random.choice([0, 2, 4, 6, 8])  # índices de números u operadores\n",
        "    if i % 2 == 0:\n",
        "        # Cambia número\n",
        "        nueva[i] = random.choice([x for x in Numeros if x not in nueva[::2]])\n",
        "    else:\n",
        "        # Cambia operador\n",
        "        nueva[i] = random.choice([op for op in Operaciones if op not in nueva[1::2]])\n",
        "    return ''.join(nueva)\n",
        "\n",
        "def crear_expresion():\n",
        "    nums = random.sample(Numeros, 5)\n",
        "    ops = random.sample(Operaciones, 4)\n",
        "    expr = \"\"\n",
        "    for i in range(4):\n",
        "        expr += nums[i] + ops[i]\n",
        "    expr += nums[4]\n",
        "    return expr\n",
        "\n",
        "# Parámetros\n",
        "MAX_ITER = 8000\n",
        "\n",
        "for _ in range(MAX_ITER):\n",
        "    expr = crear_expresion()\n",
        "    if expr in evaluados:\n",
        "        continue\n",
        "    evaluados.add(expr)\n",
        "    cont += 1\n",
        "    try:\n",
        "        resultado = eval(expr)\n",
        "        if resultado == int(resultado):\n",
        "            resultados.add(int(resultado))\n",
        "            resultados_duplicados[expr] = resultado\n",
        "        # vecindario local\n",
        "        vecino = generar_vecino(expr)\n",
        "        if vecino not in evaluados:\n",
        "            evaluados.add(vecino)\n",
        "            cont += 1\n",
        "            resultado = eval(vecino)\n",
        "            if resultado == int(resultado):\n",
        "                resultados.add(int(resultado))\n",
        "                resultados_duplicados[vecino] = resultado\n",
        "    except ZeroDivisionError:\n",
        "        continue\n",
        "\n",
        "# Mostrar resultados\n",
        "min_val = min(resultados)\n",
        "max_val = max(resultados)\n",
        "Faltantes = [i for i in range(min_val, max_val + 1) if i not in resultados]\n",
        "\n",
        "print(f\"Valor mínimo: {min_val}\")\n",
        "print(f\"Valor máximo: {max_val}\")\n",
        "print(f\"Total de valores enteros posibles: Rango {len(resultados)}\")\n",
        "print(f\"¿Faltan valores enteros entre el mínimo y el máximo?: {'Sí' if Faltantes else 'No'}\")\n",
        "print(f\"Total de combinatorias exploradas: {cont}\")\n",
        "if Faltantes:\n",
        "    print(f\"Valores faltantes (parcial): {Faltantes[:10]}...\")\n"
      ],
      "metadata": {
        "colab": {
          "base_uri": "https://localhost:8080/"
        },
        "id": "ryK6Hkox9V0v",
        "outputId": "c54510c4-3436-43ad-afeb-1de305a78cf7"
      },
      "execution_count": null,
      "outputs": [
        {
          "output_type": "stream",
          "name": "stdout",
          "text": [
            "Valor mínimo: -69\n",
            "Valor máximo: 77\n",
            "Total de valores enteros posibles: 147\n",
            "¿Faltan valores enteros entre el mínimo y el máximo?: No\n",
            "Total de combinatorias exploradas: 15460\n"
          ]
        }
      ]
    },
    {
      "cell_type": "markdown",
      "source": [
        "Debido a que el problema aborda solucion a una combinatoria de numeros y funciones, se realiza una optimizacion basandose en la heuristica de busqueda local, donde partiendo de una expresion ya evaluada, se realiza la creacion de un vecino cercano, buscando maximizar la cobertura de valores enteros distintos en vez de recorrer todo el espacio de muestral, se define un bucle inicial con 5000 iteraciones pero quedaban varios valores por fuera, el maximo de numeros enteros posibles no superaba los 130, de esta forma, se fueron aumentando la cantidad de ciclos hasta que despues de un par de intentos se obtiene todos los resultados esperados con 8000 iteraciones, vale la pena aclarar que al ser una heuristica sus resultados cambian tras cada ejecucion, por lo anterior, en el resultado presente se realizaron 15460 evaluaciones de expresiones, lo que equivale al 4,2% de las evaluaciones realizadas por fuerza bruta, al explorar  solo una fracción del espacio de búsqueda se disminuye el tiempo de ejecucion, otra ventaja es que se puede considerar como escalable, ya que su procesamiento depende del número de iteraciones, no del espacio total, otras mejoras notables son la reducion drásticamente la complejidad computacional, debido a que se enfoca el esfuerzo de cómputo en regiones prometedoras del espacio de búsqueda, esto permite producir soluciones buenas o cercanas al óptimo en mucho menos tiempo.\n",
        "\n",
        "\n",
        "\n"
      ],
      "metadata": {
        "id": "ACz-QaQBbI4u"
      }
    },
    {
      "cell_type": "markdown",
      "metadata": {
        "id": "eGDB4K6uk1iN"
      },
      "source": [
        "## (*)Calcula la complejidad del algoritmo"
      ]
    },
    {
      "cell_type": "markdown",
      "metadata": {
        "id": "NhpTh_BPk1ms"
      },
      "source": [
        "### Respuesta"
      ]
    },
    {
      "cell_type": "markdown",
      "source": [
        "Debido a que ya no se realiza toda la busqueda en el espacio muestral (No exahustivo) ahora la complejidad va a depender explicitamente de la cantidad de iteraciones, vale la pena aclarar, que por cada iteracion se realiza dos evaluaciones de expresiones, la primera en la ejecucion normal y la segunda asociada al vecino local, siempre y cuando el vecino no haya sido evaluado con antelacion, de este modo se puede concluir que La complejidad es: Constante\n",
        "\n",
        "$$\n",
        "\\mathcal{O}(k) \\quad \\text{con } k = \\text{MAX_ITER} \\times 2\n",
        "$$\n"
      ],
      "metadata": {
        "id": "3FslIxx9d1_m"
      }
    },
    {
      "cell_type": "markdown",
      "metadata": {
        "id": "3M6QjTsSkmYe"
      },
      "source": [
        "## Según el problema (y tenga sentido), diseña un juego de datos de entrada aleatorios"
      ]
    },
    {
      "cell_type": "markdown",
      "metadata": {
        "id": "Jc3_OlyNkvjZ"
      },
      "source": [
        "### Respuesta"
      ]
    },
    {
      "cell_type": "markdown",
      "source": [
        "#### Como en el ejercicio se calcula todo el espacio muestral, no tendria sentido diseñar un set de datos aletorios, puesto que todas las opciones posibles son evaluadas en el desarrollo del algoritmo"
      ],
      "metadata": {
        "id": "BRn4xH24bZn1"
      }
    },
    {
      "cell_type": "markdown",
      "metadata": {
        "id": "zy5ZROmjlGo1"
      },
      "source": [
        "## Aplica el algoritmo al juego de datos generado"
      ]
    },
    {
      "cell_type": "markdown",
      "metadata": {
        "id": "_Cmj-PVylMsa"
      },
      "source": [
        "### Respuesta"
      ]
    },
    {
      "cell_type": "markdown",
      "source": [
        "#### La pregunta depende de la anterior, no aplica"
      ],
      "metadata": {
        "id": "nJ8xUMdwbtV0"
      }
    },
    {
      "cell_type": "markdown",
      "metadata": {
        "id": "eTFWUJQrtGcv"
      },
      "source": [
        "## Enumera las referencias que has utilizado(si ha sido necesario) para llevar a cabo el trabajo"
      ]
    },
    {
      "cell_type": "markdown",
      "metadata": {
        "id": "YKQ_mRBttWsP"
      },
      "source": [
        "### Respuesta"
      ]
    },
    {
      "cell_type": "markdown",
      "source": [
        "#### Se utilizaron solo los conceptos vistos en clase"
      ],
      "metadata": {
        "id": "NmUE1wIkb3TT"
      }
    },
    {
      "cell_type": "markdown",
      "metadata": {
        "id": "kAkDPUyRtYyH"
      },
      "source": [
        "## Describe brevemente las lineas de como crees que es posible avanzar en el estudio del problema. Ten en cuenta incluso posibles variaciones del problema y/o variaciones al alza del tamaño"
      ]
    },
    {
      "cell_type": "markdown",
      "metadata": {
        "id": "IE0uZmo-tZu-"
      },
      "source": [
        "### Respuesta"
      ]
    },
    {
      "cell_type": "markdown",
      "source": [
        "#### Si hacemos un analisis en detalle de las veces que se repiten los valores enteros obtenidos en el desarrollo del ejercicio, podemos visualizar el siguiente grafo"
      ],
      "metadata": {
        "id": "JvVfU33Afz2w"
      }
    },
    {
      "cell_type": "code",
      "source": [
        "import pandas as pd\n",
        "from matplotlib import pyplot as plt\n",
        "\n",
        "Cantidades=[]\n",
        "for i in list(resultados):\n",
        "  Cantidades.append([i,len({ k:v for k,v in resultados_duplicados.items() if v==i})])\n",
        "\n",
        "Frecuencia_resultados=pd.DataFrame(Cantidades, columns=['Resultado','Cantidad'])\n",
        "Frecuencia_resultados\n",
        "\n",
        "Frecuencia_resultados.plot(kind='scatter', x='Resultado', y='Cantidad', s=25, alpha=0.6)"
      ],
      "metadata": {
        "colab": {
          "base_uri": "https://localhost:8080/",
          "height": 469
        },
        "id": "I0TYpOQQe8Rk",
        "outputId": "b6607252-452d-4a94-fdd9-30da37b55cea"
      },
      "execution_count": null,
      "outputs": [
        {
          "output_type": "execute_result",
          "data": {
            "text/plain": [
              "<Axes: xlabel='Resultado', ylabel='Cantidad'>"
            ]
          },
          "metadata": {},
          "execution_count": 8
        },
        {
          "output_type": "display_data",
          "data": {
            "text/plain": [
              "<Figure size 640x480 with 1 Axes>"
            ],
            "image/png": "[encoded data removed]"
          },
          "metadata": {}
        }
      ]
    },
    {
      "cell_type": "markdown",
      "source": [
        "Muy cerca del cero existe mayor cantidad de veces que al evaluar una expresion nos da como resultado un numero entero que esta entre 0 y 10\n",
        "\n",
        "Por lo anterir mostraremos el top 10 de la tabla de frecuencia"
      ],
      "metadata": {
        "id": "e_qitkKDgKYO"
      }
    },
    {
      "cell_type": "code",
      "source": [
        "display(Frecuencia_resultados.sort_values(by='Cantidad', ascending=False).head(10))"
      ],
      "metadata": {
        "colab": {
          "base_uri": "https://localhost:8080/",
          "height": 363
        },
        "id": "dWEZuhyzfWCw",
        "outputId": "e4bb5636-4946-4d38-de88-6fc74b237113"
      },
      "execution_count": null,
      "outputs": [
        {
          "output_type": "display_data",
          "data": {
            "text/plain": [
              "    Resultado  Cantidad\n",
              "5           5      2880\n",
              "7           7      2824\n",
              "9           9      2584\n",
              "8           8      2376\n",
              "11         11      2256\n",
              "6           6      2200\n",
              "13         13      2160\n",
              "10         10      2120\n",
              "4           4      2112\n",
              "1           1      2008"
            ],
            "text/html": [
              "\n",
              "  <div id=\"df-38b27f8c-c7fc-4ad2-9670-e720768067a8\" class=\"colab-df-container\">\n",
              "    <div>\n",
              "<style scoped>\n",
              "    .dataframe tbody tr th:only-of-type {\n",
              "        vertical-align: middle;\n",
              "    }\n",
              "\n",
              "    .dataframe tbody tr th {\n",
              "        vertical-align: top;\n",
              "    }\n",
              "\n",
              "    .dataframe thead th {\n",
              "        text-align: right;\n",
              "    }\n",
              "</style>\n",
              "<table border=\"1\" class=\"dataframe\">\n",
              "  <thead>\n",
              "    <tr style=\"text-align: right;\">\n",
              "      <th></th>\n",
              "      <th>Resultado</th>\n",
              "      <th>Cantidad</th>\n",
              "    </tr>\n",
              "  </thead>\n",
              "  <tbody>\n",
              "    <tr>\n",
              "      <th>5</th>\n",
              "      <td>5</td>\n",
              "      <td>2880</td>\n",
              "    </tr>\n",
              "    <tr>\n",
              "      <th>7</th>\n",
              "      <td>7</td>\n",
              "      <td>2824</td>\n",
              "    </tr>\n",
              "    <tr>\n",
              "      <th>9</th>\n",
              "      <td>9</td>\n",
              "      <td>2584</td>\n",
              "    </tr>\n",
              "    <tr>\n",
              "      <th>8</th>\n",
              "      <td>8</td>\n",
              "      <td>2376</td>\n",
              "    </tr>\n",
              "    <tr>\n",
              "      <th>11</th>\n",
              "      <td>11</td>\n",
              "      <td>2256</td>\n",
              "    </tr>\n",
              "    <tr>\n",
              "      <th>6</th>\n",
              "      <td>6</td>\n",
              "      <td>2200</td>\n",
              "    </tr>\n",
              "    <tr>\n",
              "      <th>13</th>\n",
              "      <td>13</td>\n",
              "      <td>2160</td>\n",
              "    </tr>\n",
              "    <tr>\n",
              "      <th>10</th>\n",
              "      <td>10</td>\n",
              "      <td>2120</td>\n",
              "    </tr>\n",
              "    <tr>\n",
              "      <th>4</th>\n",
              "      <td>4</td>\n",
              "      <td>2112</td>\n",
              "    </tr>\n",
              "    <tr>\n",
              "      <th>1</th>\n",
              "      <td>1</td>\n",
              "      <td>2008</td>\n",
              "    </tr>\n",
              "  </tbody>\n",
              "</table>\n",
              "</div>\n",
              "    <div class=\"colab-df-buttons\">\n",
              "\n",
              "  <div class=\"colab-df-container\">\n",
              "    <button class=\"colab-df-convert\" onclick=\"convertToInteractive('df-38b27f8c-c7fc-4ad2-9670-e720768067a8')\"\n",
              "            title=\"Convert this dataframe to an interactive table.\"\n",
              "            style=\"display:none;\">\n",
              "\n",
              "  <svg xmlns=\"http://www.w3.org/2000/svg\" height=\"24px\" viewBox=\"0 -960 960 960\">\n",
              "    <path d=\"M120-120v-720h720v720H120Zm60-500h600v-160H180v160Zm220 220h160v-160H400v160Zm0 220h160v-160H400v160ZM180-400h160v-160H180v160Zm440 0h160v-160H620v160ZM180-180h160v-160H180v160Zm440 0h160v-160H620v160Z\"/>\n",
              "  </svg>\n",
              "    </button>\n",
              "\n",
              "  <style>\n",
              "    .colab-df-container {\n",
              "      display:flex;\n",
              "      gap: 12px;\n",
              "    }\n",
              "\n",
              "    .colab-df-convert {\n",
              "      background-color: #E8F0FE;\n",
              "      border: none;\n",
              "      border-radius: 50%;\n",
              "      cursor: pointer;\n",
              "      display: none;\n",
              "      fill: #1967D2;\n",
              "      height: 32px;\n",
              "      padding: 0 0 0 0;\n",
              "      width: 32px;\n",
              "    }\n",
              "\n",
              "    .colab-df-convert:hover {\n",
              "      background-color: #E2EBFA;\n",
              "      box-shadow: 0px 1px 2px rgba(60, 64, 67, 0.3), 0px 1px 3px 1px rgba(60, 64, 67, 0.15);\n",
              "      fill: #174EA6;\n",
              "    }\n",
              "\n",
              "    .colab-df-buttons div {\n",
              "      margin-bottom: 4px;\n",
              "    }\n",
              "\n",
              "    [theme=dark] .colab-df-convert {\n",
              "      background-color: #3B4455;\n",
              "      fill: #D2E3FC;\n",
              "    }\n",
              "\n",
              "    [theme=dark] .colab-df-convert:hover {\n",
              "      background-color: #434B5C;\n",
              "      box-shadow: 0px 1px 3px 1px rgba(0, 0, 0, 0.15);\n",
              "      filter: drop-shadow(0px 1px 2px rgba(0, 0, 0, 0.3));\n",
              "      fill: #FFFFFF;\n",
              "    }\n",
              "  </style>\n",
              "\n",
              "    <script>\n",
              "      const buttonEl =\n",
              "        document.querySelector('#df-38b27f8c-c7fc-4ad2-9670-e720768067a8 button.colab-df-convert');\n",
              "      buttonEl.style.display =\n",
              "        google.colab.kernel.accessAllowed ? 'block' : 'none';\n",
              "\n",
              "      async function convertToInteractive(key) {\n",
              "        const element = document.querySelector('#df-38b27f8c-c7fc-4ad2-9670-e720768067a8');\n",
              "        const dataTable =\n",
              "          await google.colab.kernel.invokeFunction('convertToInteractive',\n",
              "                                                    [key], {});\n",
              "        if (!dataTable) return;\n",
              "\n",
              "        const docLinkHtml = 'Like what you see? Visit the ' +\n",
              "          '<a target=\"_blank\" href=https://colab.research.google.com/notebooks/data_table.ipynb>data table notebook</a>'\n",
              "          + ' to learn more about interactive tables.';\n",
              "        element.innerHTML = '';\n",
              "        dataTable['output_type'] = 'display_data';\n",
              "        await google.colab.output.renderOutput(dataTable, element);\n",
              "        const docLink = document.createElement('div');\n",
              "        docLink.innerHTML = docLinkHtml;\n",
              "        element.appendChild(docLink);\n",
              "      }\n",
              "    </script>\n",
              "  </div>\n",
              "\n",
              "\n",
              "    <div id=\"df-af6c1bd1-1b90-427a-8798-daed4467930c\">\n",
              "      <button class=\"colab-df-quickchart\" onclick=\"quickchart('df-af6c1bd1-1b90-427a-8798-daed4467930c')\"\n",
              "                title=\"Suggest charts\"\n",
              "                style=\"display:none;\">\n",
              "\n",
              "<svg xmlns=\"http://www.w3.org/2000/svg\" height=\"24px\"viewBox=\"0 0 24 24\"\n",
              "     width=\"24px\">\n",
              "    <g>\n",
              "        <path d=\"M19 3H5c-1.1 0-2 .9-2 2v14c0 1.1.9 2 2 2h14c1.1 0 2-.9 2-2V5c0-1.1-.9-2-2-2zM9 17H7v-7h2v7zm4 0h-2V7h2v10zm4 0h-2v-4h2v4z\"/>\n",
              "    </g>\n",
              "</svg>\n",
              "      </button>\n",
              "\n",
              "<style>\n",
              "  .colab-df-quickchart {\n",
              "      --bg-color: #E8F0FE;\n",
              "      --fill-color: #1967D2;\n",
              "      --hover-bg-color: #E2EBFA;\n",
              "      --hover-fill-color: #174EA6;\n",
              "      --disabled-fill-color: #AAA;\n",
              "      --disabled-bg-color: #DDD;\n",
              "  }\n",
              "\n",
              "  [theme=dark] .colab-df-quickchart {\n",
              "      --bg-color: #3B4455;\n",
              "      --fill-color: #D2E3FC;\n",
              "      --hover-bg-color: #434B5C;\n",
              "      --hover-fill-color: #FFFFFF;\n",
              "      --disabled-bg-color: #3B4455;\n",
              "      --disabled-fill-color: #666;\n",
              "  }\n",
              "\n",
              "  .colab-df-quickchart {\n",
              "    background-color: var(--bg-color);\n",
              "    border: none;\n",
              "    border-radius: 50%;\n",
              "    cursor: pointer;\n",
              "    display: none;\n",
              "    fill: var(--fill-color);\n",
              "    height: 32px;\n",
              "    padding: 0;\n",
              "    width: 32px;\n",
              "  }\n",
              "\n",
              "  .colab-df-quickchart:hover {\n",
              "    background-color: var(--hover-bg-color);\n",
              "    box-shadow: 0 1px 2px rgba(60, 64, 67, 0.3), 0 1px 3px 1px rgba(60, 64, 67, 0.15);\n",
              "    fill: var(--button-hover-fill-color);\n",
              "  }\n",
              "\n",
              "  .colab-df-quickchart-complete:disabled,\n",
              "  .colab-df-quickchart-complete:disabled:hover {\n",
              "    background-color: var(--disabled-bg-color);\n",
              "    fill: var(--disabled-fill-color);\n",
              "    box-shadow: none;\n",
              "  }\n",
              "\n",
              "  .colab-df-spinner {\n",
              "    border: 2px solid var(--fill-color);\n",
              "    border-color: transparent;\n",
              "    border-bottom-color: var(--fill-color);\n",
              "    animation:\n",
              "      spin 1s steps(1) infinite;\n",
              "  }\n",
              "\n",
              "  @keyframes spin {\n",
              "    0% {\n",
              "      border-color: transparent;\n",
              "      border-bottom-color: var(--fill-color);\n",
              "      border-left-color: var(--fill-color);\n",
              "    }\n",
              "    20% {\n",
              "      border-color: transparent;\n",
              "      border-left-color: var(--fill-color);\n",
              "      border-top-color: var(--fill-color);\n",
              "    }\n",
              "    30% {\n",
              "      border-color: transparent;\n",
              "      border-left-color: var(--fill-color);\n",
              "      border-top-color: var(--fill-color);\n",
              "      border-right-color: var(--fill-color);\n",
              "    }\n",
              "    40% {\n",
              "      border-color: transparent;\n",
              "      border-right-color: var(--fill-color);\n",
              "      border-top-color: var(--fill-color);\n",
              "    }\n",
              "    60% {\n",
              "      border-color: transparent;\n",
              "      border-right-color: var(--fill-color);\n",
              "    }\n",
              "    80% {\n",
              "      border-color: transparent;\n",
              "      border-right-color: var(--fill-color);\n",
              "      border-bottom-color: var(--fill-color);\n",
              "    }\n",
              "    90% {\n",
              "      border-color: transparent;\n",
              "      border-bottom-color: var(--fill-color);\n",
              "    }\n",
              "  }\n",
              "</style>\n",
              "\n",
              "      <script>\n",
              "        async function quickchart(key) {\n",
              "          const quickchartButtonEl =\n",
              "            document.querySelector('#' + key + ' button');\n",
              "          quickchartButtonEl.disabled = true;  // To prevent multiple clicks.\n",
              "          quickchartButtonEl.classList.add('colab-df-spinner');\n",
              "          try {\n",
              "            const charts = await google.colab.kernel.invokeFunction(\n",
              "                'suggestCharts', [key], {});\n",
              "          } catch (error) {\n",
              "            console.error('Error during call to suggestCharts:', error);\n",
              "          }\n",
              "          quickchartButtonEl.classList.remove('colab-df-spinner');\n",
              "          quickchartButtonEl.classList.add('colab-df-quickchart-complete');\n",
              "        }\n",
              "        (() => {\n",
              "          let quickchartButtonEl =\n",
              "            document.querySelector('#df-af6c1bd1-1b90-427a-8798-daed4467930c button');\n",
              "          quickchartButtonEl.style.display =\n",
              "            google.colab.kernel.accessAllowed ? 'block' : 'none';\n",
              "        })();\n",
              "      </script>\n",
              "    </div>\n",
              "\n",
              "    </div>\n",
              "  </div>\n"
            ],
            "application/vnd.google.colaboratory.intrinsic+json": {
              "type": "dataframe",
              "summary": "{\n  \"name\": \"display(Frecuencia_resultados\",\n  \"rows\": 10,\n  \"fields\": [\n    {\n      \"column\": \"Resultado\",\n      \"properties\": {\n        \"dtype\": \"number\",\n        \"std\": 3,\n        \"min\": 1,\n        \"max\": 13,\n        \"num_unique_values\": 10,\n        \"samples\": [\n          4,\n          7,\n          6\n        ],\n        \"semantic_type\": \"\",\n        \"description\": \"\"\n      }\n    },\n    {\n      \"column\": \"Cantidad\",\n      \"properties\": {\n        \"dtype\": \"number\",\n        \"std\": 308,\n        \"min\": 2008,\n        \"max\": 2880,\n        \"num_unique_values\": 10,\n        \"samples\": [\n          2112,\n          2824,\n          2200\n        ],\n        \"semantic_type\": \"\",\n        \"description\": \"\"\n      }\n    }\n  ]\n}"
            }
          },
          "metadata": {}
        }
      ]
    },
    {
      "cell_type": "code",
      "source": [
        "sum(Frecuencia_resultados.sort_values(by='Cantidad', ascending=False).head(10)['Cantidad'])"
      ],
      "metadata": {
        "colab": {
          "base_uri": "https://localhost:8080/"
        },
        "id": "a0q7CBhehG1H",
        "outputId": "d429cb6c-010d-412f-c9cd-1212ba531852"
      },
      "execution_count": null,
      "outputs": [
        {
          "output_type": "execute_result",
          "data": {
            "text/plain": [
              "23520"
            ]
          },
          "metadata": {},
          "execution_count": 14
        }
      ]
    },
    {
      "cell_type": "markdown",
      "source": [
        "Como se puede apreciar en la tabla de frecuencia se evidencia que unicamente en el top 10 de los valores que mayor frecuencia de ocurrencia, se repiten mas de 23.000 veces, motivo por el cual se podria realizar una exploracion detallada al comportamiento de las evaluaciones para encontrar patrones que seguramente estan atadas a la combinatoria de signos y numeros, si se puede determinar una matriz que simplifique el problema descartando las evaluaciones de las expresiones siempre que cumpla el comportamiento del supuesto propuesto en estas linea.\n",
        "\n",
        "Adicionalmente el problema se puede escalar o variar de muchas formas, como usar más dígitos, permitir operadores repetidos o incluir paréntesis, lo que lo convierte en un excelente caso de estudio para algoritmos de optimización y búsqueda inteligente."
      ],
      "metadata": {
        "id": "6tYFnrNeg7WV"
      }
    },
    {
      "cell_type": "markdown",
      "source": [
        "## Justificacion teorica de minimo, maximo y rango"
      ],
      "metadata": {
        "id": "goc4f3-lRq5y"
      }
    },
    {
      "cell_type": "markdown",
      "source": [
        "Como vimos en la ejecucion de cada uno de los algoritmos, su minimo es de -69, maximo de 77, lo que nos deja un rango total de 147 numeros enteros entre estos dos valores, ahora bien, si quisieramos justificar de manera teorica sus valores, utilizariamos los valores mas altos/bajos posibles seguidos de la combinacion de digitos que resten y sumen de manera conveniente, ejemplo"
      ],
      "metadata": {
        "id": "pdG3KsN3Rxfa"
      }
    },
    {
      "cell_type": "markdown",
      "source": [
        "Para hallar el maximo utilizaria los valores mas grandes de nuestro set de numeros combinandolo con la multiplicacion, para obtener el valor mas alto posible, seguido de esto, utilizar los valores continuos en la division para que su resultado de resta sea minima, con ello obtenemos la siguiente expresion, vale aclarar, que esta no deja un resultado entero, por ello no se tiene en cuenta en el procesamiento de los algoritmos"
      ],
      "metadata": {
        "id": "sTHJRdGXS3mR"
      }
    },
    {
      "cell_type": "code",
      "source": [
        "9 * 8 + 7 - 5 / 6"
      ],
      "metadata": {
        "colab": {
          "base_uri": "https://localhost:8080/"
        },
        "id": "akx4B6CzSzpZ",
        "outputId": "70233317-c67f-4413-adcc-9cd3b125c0a6"
      },
      "execution_count": null,
      "outputs": [
        {
          "output_type": "execute_result",
          "data": {
            "text/plain": [
              "78.16666666666667"
            ]
          },
          "metadata": {},
          "execution_count": 61
        }
      ]
    },
    {
      "cell_type": "markdown",
      "source": [
        "Un caso similar sucede para el valor minimo, donde se utilizaria la misma logica, lo que nos da como resultado una expresion de este tipo"
      ],
      "metadata": {
        "id": "b03s8XEcTt3o"
      }
    },
    {
      "cell_type": "code",
      "source": [
        "1 - 9 * 8 + 2 / 6\n"
      ],
      "metadata": {
        "colab": {
          "base_uri": "https://localhost:8080/"
        },
        "id": "5wQpAaUZUAuo",
        "outputId": "e082d6ea-4897-41bf-dce4-26ee7e31e475"
      },
      "execution_count": null,
      "outputs": [
        {
          "output_type": "execute_result",
          "data": {
            "text/plain": [
              "-70.66666666666667"
            ]
          },
          "metadata": {},
          "execution_count": 63
        }
      ]
    }
  ]
}